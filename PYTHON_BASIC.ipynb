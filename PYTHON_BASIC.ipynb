{
  "nbformat": 4,
  "nbformat_minor": 0,
  "metadata": {
    "colab": {
      "provenance": []
    },
    "kernelspec": {
      "name": "python3",
      "display_name": "Python 3"
    },
    "language_info": {
      "name": "python"
    }
  },
  "cells": [
    {
      "cell_type": "markdown",
      "source": [],
      "metadata": {
        "id": "6iDIvQqbMjlx"
      }
    },
    {
      "cell_type": "markdown",
      "source": [
        "#PYTHON BASIC\n"
      ],
      "metadata": {
        "id": "Y60xwyXkM6Ch"
      }
    },
    {
      "cell_type": "markdown",
      "source": [
        " 1. What is Python, and why is it popular?\n",
        "-  Python is a high-level, interpreted programming language known for its simplicity, readability, and versatility. It supports multiple programming paradigms, including object-oriented, procedural, and functional programming.\n",
        "\n",
        " Python is popular due to its easy-to-read syntax, extensive standard library, and a vast ecosystem of third-party packages that support diverse applications like web development, data analysis, artificial intelligence, and scientific computing. Its strong community, cross-platform compatibility, and excellent integration capabilities make it a preferred choice for both beginners and experienced developers, offering numerous career opportunities in various fields.\n",
        " 2. What is an interpreter in Python?\n",
        " - An interpreter in Python is a program that reads and executes Python code line by line. Unlike compiled languages, where the entire program is translated into machine code before execution, Python's interpreter translates each high-level instruction into machine code and executes it immediately. This allows for interactive programming and easier debugging, as errors can be caught and corrected on the fly. The interpreter also makes Python a platform-independent language, as the same Python code can run on any system with a compatible interpreter.\n",
        " 3. What are pre-defined keywords in Python?\n",
        " - Pre-defined keywords in Python are reserved words that have special meanings and cannot be used as identifiers, such as names for variables or functions. These keywords include control flow statements like `if`, `else`, `elif`, `for`, `while`, `break`, `continue`, and `pass`, which manage the flow of execution in a program. Keywords like `def` and `class` are used to define functions and classes, respectively. Logical operators such as `and`, `or`, and `not` are used to combine and negate conditions. Exception handling keywords include `try`, `except`, `finally`, and `raise`, which manage errors and exceptions. Import-related keywords like `import`, `from`, and `as` allow for the inclusion and aliasing of modules. Additionally, `global` and `nonlocal` keywords are used to declare variables in different scopes, while `lambda` is used to create anonymous functions. Boolean values are represented by `True` and `False`, and `None` represents a null value. The `yield` keyword is used to return a generator. These keywords are essential for writing Python programs, as they form the core of Python's syntax and functionality.\n",
        " 4. Can keywords be used as variable names?\n",
        "\n",
        " - No, keywords cannot be used as variable names in Python. Keywords are reserved words that have predefined meanings and functions within the language's syntax. Using them as variable names would cause a syntax error and create confusion in the code, as the interpreter would not be able to distinguish between the intended use of the keyword and the variable name. For example, attempting to use `if`, `for`, or `class` as a variable name would result in an error. It is important to choose variable names that do not conflict with Python's reserved keywords to ensure clear and error-free code.\n",
        "\n",
        "5. What is mutability in Python?\n",
        "-  Mutability in Python refers to the ability of an object to be changed after it has been created. Mutable objects can have their contents altered without changing their identity. Examples of mutable objects in Python include lists, dictionaries, and sets. In contrast, immutable objects cannot be changed once they are created. Examples of immutable objects include strings, tuples, and integers.\n",
        "6. Why are lists mutable, but tuples are immutable?\n",
        "- Lists are mutable in Python because they are designed to be dynamic collections that can grow and shrink in size. This mutability allows for elements to be added, removed, or modified in place. Tuples, on the other hand, are immutable to provide a fixed-size, ordered collection of items that cannot be altered. This immutability ensures that tuples are hashable and can be used as keys in dictionaries or elements in sets, providing a guarantee that their contents will not change.\n",
        "7. What is the difference between\" ==\" and \"is\" operators in Python?\n",
        "- The == operator checks for value equality, meaning it compares whether the values of two objects are the same. The is operator checks for identity equality, meaning it compares whether two references point to the same object in memory. For example, a == b would be true if a and b have the same value, whereas a is b would be true if a and b refer to the exact same object.\n",
        "8. What are logical operators in Python?\n",
        "- Logical operators in Python are used to combine conditional statements. The main logical operators are:\n",
        "\n",
        " -   and: Returns True if both operands are true.\n",
        "\n",
        " -  or: Returns True if at least one of the operands is true.\n",
        "\n",
        " -  not: Returns True if the operand is false, and vice versa.\n",
        "\n",
        "9. What is type casting in Python?\n",
        "- Type casting in Python is the process of converting a value from one data type to another. This can be done using built-in functions such as int(), float(), str(), and list(). Type casting is useful when you need to perform operations that require values to be in a specific data type.\n",
        "\n",
        "10. What is the difference between implicit and explicit type casting?\n",
        "- Implicit type casting, also known as coercion, is automatically performed by Python when it encounters an operation involving mixed data types. For example, adding an integer to a float will automatically convert the integer to a float.\n",
        "-  Explicit type casting, or type conversion, is performed by the programmer using built-in functions to convert a value from one type to another, such as using int(), float(), or str().\n",
        "11. What is the purpose of conditional statements in Python?\n",
        "- The purpose of conditional statements in Python is to execute different blocks of code based on whether a condition is true or false. This allows for decision-making in a program. The main conditional statements are if, elif, and else. They enable the program to perform different actions depending on the evaluation of boolean expressions.\n",
        "\n",
        "12. How does the elif statement work?\n",
        "- The elif statement, short for \"else if,\" allows you to check multiple conditions sequentially after an initial if statement. If the if condition is false, Python will check the elif condition. If the elif condition is true, the corresponding block of code will be executed. You can have multiple elif statements, and an optional else statement can be used to handle cases where none of the conditions are true.\n",
        "\n",
        "13. What is the difference between for and while loops?\n",
        "- The for loop in Python is used to iterate over a sequence (such as a list, tuple, dictionary, set, or string) for a predefined number of times. The while loop, on the other hand, repeatedly executes a block of code as long as a given condition is true. The key difference is that for loops are typically used when the number of iterations is known or finite, while while loops are used when the condition depends on some variable that changes within the loop.\n",
        "\n",
        "14. Describe a scenario where a while loop is more suitable than a for loop.\n",
        "- A while loop is more suitable in scenarios where the number of iterations is not known in advance and depends on a dynamic condition. For example, if you want to read input from a user until they enter a specific value (e.g., \"quit\"), a while loop would be appropriate because you do not know beforehand how many inputs the user will provide. The loop will continue to prompt the user until the condition (user entering \"quit\") is met."
      ],
      "metadata": {
        "id": "Ivr0PBsKNcNP"
      }
    },
    {
      "cell_type": "markdown",
      "source": [
        "#PRACTICAL QUESTION\n"
      ],
      "metadata": {
        "id": "LVY5l7VWjTy6"
      }
    },
    {
      "cell_type": "code",
      "source": [
        "# 1. Write a Python program to print \"Hello, World!\"\n",
        "print(\"Hello, World!\")"
      ],
      "metadata": {
        "colab": {
          "base_uri": "https://localhost:8080/"
        },
        "id": "9JhEot2liLSf",
        "outputId": "15fbe250-5469-4c2b-d7e9-5c35e177b3c2"
      },
      "execution_count": 1,
      "outputs": [
        {
          "output_type": "stream",
          "name": "stdout",
          "text": [
            "Hello, World!\n"
          ]
        }
      ]
    },
    {
      "cell_type": "code",
      "source": [
        "# 2. Write a Python program that displays your name and age.\n",
        "name = \"Ankit Verma\"\n",
        "age = 20\n",
        "print(f\"My name is {name} and I am {age} years old.\")\n"
      ],
      "metadata": {
        "colab": {
          "base_uri": "https://localhost:8080/"
        },
        "id": "gtQCJi1dicmX",
        "outputId": "208226fc-81dc-450d-c651-87e26be8fec0"
      },
      "execution_count": 2,
      "outputs": [
        {
          "output_type": "stream",
          "name": "stdout",
          "text": [
            "My name is Ankit Verma and I am 20 years old.\n"
          ]
        }
      ]
    },
    {
      "cell_type": "code",
      "source": [
        "# 3. Write code to print all the pre-defined keywords in Python using the keyword library.\n",
        "import keyword\n",
        "\n",
        "print(keyword.kwlist)\n"
      ],
      "metadata": {
        "colab": {
          "base_uri": "https://localhost:8080/"
        },
        "id": "Tmu8kEiQkPxz",
        "outputId": "f8c9f74a-9d06-4ff1-d23b-b0d69a494b18"
      },
      "execution_count": 3,
      "outputs": [
        {
          "output_type": "stream",
          "name": "stdout",
          "text": [
            "['False', 'None', 'True', 'and', 'as', 'assert', 'async', 'await', 'break', 'class', 'continue', 'def', 'del', 'elif', 'else', 'except', 'finally', 'for', 'from', 'global', 'if', 'import', 'in', 'is', 'lambda', 'nonlocal', 'not', 'or', 'pass', 'raise', 'return', 'try', 'while', 'with', 'yield']\n"
          ]
        }
      ]
    },
    {
      "cell_type": "code",
      "source": [
        "# 4. Write a program that checks if a given word is a Python keyword.\n",
        "import keyword\n",
        "\n",
        "def check_keyword(word):\n",
        "    if keyword.iskeyword(word):\n",
        "        print(f\"'{word}' is a Python keyword.\")\n",
        "    else:\n",
        "        print(f\"'{word}' is not a Python keyword.\")\n",
        "\n",
        "# Example usage\n",
        "check_keyword(\"for\")\n",
        "check_keyword(\"hello\")\n"
      ],
      "metadata": {
        "colab": {
          "base_uri": "https://localhost:8080/"
        },
        "id": "Uhht5HRQkq9c",
        "outputId": "a578146b-4a49-4bda-c834-c07c03e63f0b"
      },
      "execution_count": 4,
      "outputs": [
        {
          "output_type": "stream",
          "name": "stdout",
          "text": [
            "'for' is a Python keyword.\n",
            "'hello' is not a Python keyword.\n"
          ]
        }
      ]
    },
    {
      "cell_type": "code",
      "source": [
        "''' 5. Create a list and tuple in Python, and demonstrate how attempting to change an element works differently\n",
        " for each.'''\n",
        "\n",
        "# List (mutable)\n",
        "\n",
        "my_list = [1, 2, 3]\n",
        "print(\"Original list:\", my_list)\n",
        "my_list[0] = 10\n",
        "print(\"Modified list:\", my_list)\n",
        "\n",
        "# Tuple (immutable)\n",
        "my_tuple = (1, 2, 3)\n",
        "print(\"Original tuple:\", my_tuple)\n",
        "try:\n",
        "    my_tuple[0] = 10\n",
        "except TypeError as e:\n",
        "    print(\"Error:\", e)\n"
      ],
      "metadata": {
        "colab": {
          "base_uri": "https://localhost:8080/"
        },
        "id": "l2ZQ6S7ymoL1",
        "outputId": "52c7889d-b2a1-4d48-f1c6-c80a0086a181"
      },
      "execution_count": 10,
      "outputs": [
        {
          "output_type": "stream",
          "name": "stdout",
          "text": [
            "Original list: [1, 2, 3]\n",
            "Modified list: [10, 2, 3]\n",
            "Original tuple: (1, 2, 3)\n",
            "Error: 'tuple' object does not support item assignment\n"
          ]
        }
      ]
    },
    {
      "cell_type": "code",
      "source": [
        "# 6.Write a function to demonstrate the behavior of mutable and immutable arguments.\n",
        "def modify_elements(mutable_list, immutable_tuple):\n",
        "    # Modify list (mutable)\n",
        "    mutable_list.append(4)\n",
        "    print(\"Inside function, modified list:\", mutable_list)\n",
        "\n",
        "    # Try to modify tuple (immutable)\n",
        "    try:\n",
        "        immutable_tuple += (4,)\n",
        "        print(\"Inside function, modified tuple:\", immutable_tuple)\n",
        "    except TypeError as e:\n",
        "        print(\"Error:\", e)\n",
        "\n",
        "# Test\n",
        "my_list = [1, 2, 3]\n",
        "my_tuple = (1, 2, 3)\n",
        "modify_elements(my_list, my_tuple)\n",
        "print(\"Outside function, list:\", my_list)\n",
        "print(\"Outside function, tuple:\", my_tuple)\n"
      ],
      "metadata": {
        "colab": {
          "base_uri": "https://localhost:8080/"
        },
        "id": "cgC4RjM5oy3A",
        "outputId": "abc036db-1c7f-4bf2-dadc-257cbe68eeb7"
      },
      "execution_count": 11,
      "outputs": [
        {
          "output_type": "stream",
          "name": "stdout",
          "text": [
            "Inside function, modified list: [1, 2, 3, 4]\n",
            "Inside function, modified tuple: (1, 2, 3, 4)\n",
            "Outside function, list: [1, 2, 3, 4]\n",
            "Outside function, tuple: (1, 2, 3)\n"
          ]
        }
      ]
    },
    {
      "cell_type": "code",
      "source": [
        "# 7.Write a function to demonstrate the behavior of mutable and immutable arguments.\n",
        "def modify_elements(mutable_list, immutable_tuple):\n",
        "    # Modify list (mutable)\n",
        "    mutable_list.append(4)\n",
        "    print(\"Inside function, modified list:\", mutable_list)\n",
        "\n",
        "    # Try to modify tuple (immutable)\n",
        "    try:\n",
        "        immutable_tuple += (4,)\n",
        "        print(\"Inside function, modified tuple:\", immutable_tuple)\n",
        "    except TypeError as e:\n",
        "        print(\"Error:\", e)\n",
        "\n",
        "# Test\n",
        "my_list = [1, 2, 3]\n",
        "my_tuple = (1, 2, 3)\n",
        "modify_elements(my_list, my_tuple)\n",
        "print(\"Outside function, list:\", my_list)\n",
        "print(\"Outside function, tuple:\", my_tuple)\n"
      ],
      "metadata": {
        "colab": {
          "base_uri": "https://localhost:8080/"
        },
        "id": "8PyxBJXqpIiV",
        "outputId": "ea94bd95-0050-4bab-8e8d-cd6cbfdc425a"
      },
      "execution_count": 12,
      "outputs": [
        {
          "output_type": "stream",
          "name": "stdout",
          "text": [
            "Inside function, modified list: [1, 2, 3, 4]\n",
            "Inside function, modified tuple: (1, 2, 3, 4)\n",
            "Outside function, list: [1, 2, 3, 4]\n",
            "Outside function, tuple: (1, 2, 3)\n"
          ]
        }
      ]
    },
    {
      "cell_type": "code",
      "source": [
        "#8.Write a program to demonstrate the use of logical operators.\n",
        "a = True\n",
        "b = False\n",
        "\n",
        "# Logical AND\n",
        "print(\"a and b:\", a and b)\n",
        "\n",
        "# Logical OR\n",
        "print(\"a or b:\", a or b)\n",
        "\n",
        "# Logical NOT\n",
        "print(\"not a:\", not a)\n",
        "print(\"not b:\", not b)\n"
      ],
      "metadata": {
        "colab": {
          "base_uri": "https://localhost:8080/"
        },
        "id": "MWsfd33ypVzN",
        "outputId": "f79fd485-589b-433b-a01a-d953b6ad211a"
      },
      "execution_count": 13,
      "outputs": [
        {
          "output_type": "stream",
          "name": "stdout",
          "text": [
            "a and b: False\n",
            "a or b: True\n",
            "not a: False\n",
            "not b: True\n"
          ]
        }
      ]
    },
    {
      "cell_type": "code",
      "source": [
        "# 9.Write a Python program to convert user input from string to integer, float, and boolean types.\n",
        "\n",
        "user_input = input(\"Enter a value: \")\n",
        "\n",
        "# Convert to integer\n",
        "try:\n",
        "    int_value = int(user_input)\n",
        "    print(\"Integer:\", int_value)\n",
        "except ValueError:\n",
        "    print(\"Cannot convert to integer.\")\n",
        "\n",
        "# Convert to float\n",
        "try:\n",
        "    float_value = float(user_input)\n",
        "    print(\"Float:\", float_value)\n",
        "except ValueError:\n",
        "    print(\"Cannot convert to float.\")\n",
        "\n",
        "# Convert to boolean\n",
        "bool_value = bool(user_input)\n",
        "print(\"Boolean:\", bool_value)\n"
      ],
      "metadata": {
        "colab": {
          "base_uri": "https://localhost:8080/"
        },
        "id": "oEL9sfVRphP0",
        "outputId": "d64ac640-eecb-4a41-c860-2d783d991852"
      },
      "execution_count": 16,
      "outputs": [
        {
          "output_type": "stream",
          "name": "stdout",
          "text": [
            "Enter a value: 1234\n",
            "Integer: 1234\n",
            "Float: 1234.0\n",
            "Boolean: True\n"
          ]
        }
      ]
    },
    {
      "cell_type": "code",
      "source": [
        "# 10.Write code to demonstrate type casting with list elements.\n",
        "my_list = [\"1\", \"2\", \"3\"]\n",
        "\n",
        "# Convert elements to integers\n",
        "int_list = [int(x) for x in my_list]\n",
        "print(\"Integer list:\", int_list)\n",
        "\n",
        "# Convert elements to floats\n",
        "float_list = [float(x) for x in my_list]\n",
        "print(\"Float list:\", float_list)\n"
      ],
      "metadata": {
        "colab": {
          "base_uri": "https://localhost:8080/"
        },
        "id": "9GLJ9ShKqNQ4",
        "outputId": "57f3e260-3099-4407-bf36-77eb1bf9679a"
      },
      "execution_count": 17,
      "outputs": [
        {
          "output_type": "stream",
          "name": "stdout",
          "text": [
            "Integer list: [1, 2, 3]\n",
            "Float list: [1.0, 2.0, 3.0]\n"
          ]
        }
      ]
    },
    {
      "cell_type": "code",
      "source": [
        "# 11.Write a program that checks if a number is positive, negative, or zero.\n",
        "number = float(input(\"Enter a number: \"))\n",
        "\n",
        "if number > 0:\n",
        "    print(\"The number is positive.\")\n",
        "elif number < 0:\n",
        "    print(\"The number is negative.\")\n",
        "else:\n",
        "    print(\"The number is zero.\")\n"
      ],
      "metadata": {
        "colab": {
          "base_uri": "https://localhost:8080/"
        },
        "id": "ehiIvlbPqkcd",
        "outputId": "425b3582-2465-4938-fb1b-47b74dfef33f"
      },
      "execution_count": 18,
      "outputs": [
        {
          "output_type": "stream",
          "name": "stdout",
          "text": [
            "Enter a number: 868\n",
            "The number is positive.\n"
          ]
        }
      ]
    },
    {
      "cell_type": "code",
      "source": [
        "# 12.Write a for loop to print numbers from 1 to 100.\n",
        "for i in range(1, 101):\n",
        "    print(i)\n"
      ],
      "metadata": {
        "colab": {
          "base_uri": "https://localhost:8080/"
        },
        "id": "nd-BylTMq0nT",
        "outputId": "ef64e703-23a0-45e4-c9f0-ddb23271439e"
      },
      "execution_count": 19,
      "outputs": [
        {
          "output_type": "stream",
          "name": "stdout",
          "text": [
            "1\n",
            "2\n",
            "3\n",
            "4\n",
            "5\n",
            "6\n",
            "7\n",
            "8\n",
            "9\n",
            "10\n",
            "11\n",
            "12\n",
            "13\n",
            "14\n",
            "15\n",
            "16\n",
            "17\n",
            "18\n",
            "19\n",
            "20\n",
            "21\n",
            "22\n",
            "23\n",
            "24\n",
            "25\n",
            "26\n",
            "27\n",
            "28\n",
            "29\n",
            "30\n",
            "31\n",
            "32\n",
            "33\n",
            "34\n",
            "35\n",
            "36\n",
            "37\n",
            "38\n",
            "39\n",
            "40\n",
            "41\n",
            "42\n",
            "43\n",
            "44\n",
            "45\n",
            "46\n",
            "47\n",
            "48\n",
            "49\n",
            "50\n",
            "51\n",
            "52\n",
            "53\n",
            "54\n",
            "55\n",
            "56\n",
            "57\n",
            "58\n",
            "59\n",
            "60\n",
            "61\n",
            "62\n",
            "63\n",
            "64\n",
            "65\n",
            "66\n",
            "67\n",
            "68\n",
            "69\n",
            "70\n",
            "71\n",
            "72\n",
            "73\n",
            "74\n",
            "75\n",
            "76\n",
            "77\n",
            "78\n",
            "79\n",
            "80\n",
            "81\n",
            "82\n",
            "83\n",
            "84\n",
            "85\n",
            "86\n",
            "87\n",
            "88\n",
            "89\n",
            "90\n",
            "91\n",
            "92\n",
            "93\n",
            "94\n",
            "95\n",
            "96\n",
            "97\n",
            "98\n",
            "99\n",
            "100\n"
          ]
        }
      ]
    },
    {
      "cell_type": "code",
      "source": [
        "#13. Write a Python program to find the sum of all even numbers between 1 and 500.\n",
        "sum_even = sum(i for i in range(1, 501) if i % 2 == 0)\n",
        "print(\"Sum of all even numbers between 1 and 500:\", sum_even)\n"
      ],
      "metadata": {
        "colab": {
          "base_uri": "https://localhost:8080/"
        },
        "id": "UNkQA1TRq2-i",
        "outputId": "d7f1c152-3af5-4615-edf8-660e8c309433"
      },
      "execution_count": 20,
      "outputs": [
        {
          "output_type": "stream",
          "name": "stdout",
          "text": [
            "Sum of all even numbers between 1 and 500: 62750\n"
          ]
        }
      ]
    },
    {
      "cell_type": "code",
      "source": [
        "# 14.Write a program to reverse a string using a while loop.\n",
        "def reverse_string(s):\n",
        "    reversed_s = \"\"\n",
        "    index = len(s) - 1\n",
        "    while index >= 0:\n",
        "        reversed_s += s[index]\n",
        "        index -= 1\n",
        "    return reversed_s\n",
        "\n",
        "# Test\n",
        "input_string = \"Hello, World!\"\n",
        "print(\"Original string:\", input_string)\n",
        "print(\"Reversed string:\", reverse_string(input_string))\n"
      ],
      "metadata": {
        "colab": {
          "base_uri": "https://localhost:8080/"
        },
        "id": "tipD0obMrvIK",
        "outputId": "efbe19cc-27d2-4d13-d916-ed76b9195749"
      },
      "execution_count": 21,
      "outputs": [
        {
          "output_type": "stream",
          "name": "stdout",
          "text": [
            "Original string: Hello, World!\n",
            "Reversed string: !dlroW ,olleH\n"
          ]
        }
      ]
    },
    {
      "cell_type": "code",
      "source": [
        "# 15.Write a Python program to calculate the factorial of a number provided by the user using a while loop.\n",
        "def factorial(n):\n",
        "    result = 1\n",
        "    while n > 1:\n",
        "        result *= n\n",
        "        n -= 1\n",
        "    return result\n",
        "\n",
        "# Test\n",
        "number = int(input(\"Enter a number to calculate its factorial: \"))\n",
        "print(f\"The factorial of {number} is {factorial(number)}.\")\n"
      ],
      "metadata": {
        "colab": {
          "base_uri": "https://localhost:8080/"
        },
        "id": "XU9hBOiRsFeK",
        "outputId": "093c3e13-8ea3-4218-98f3-6d2e251634bb"
      },
      "execution_count": 23,
      "outputs": [
        {
          "output_type": "stream",
          "name": "stdout",
          "text": [
            "Enter a number to calculate its factorial: 24\n",
            "The factorial of 24 is 620448401733239439360000.\n"
          ]
        }
      ]
    }
  ]
}